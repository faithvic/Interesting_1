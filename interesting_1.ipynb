{
 "cells": [
  {
   "cell_type": "code",
   "execution_count": 2,
   "id": "a8233467-e1cc-4e01-b66d-ad728c57a8d8",
   "metadata": {},
   "outputs": [
    {
     "name": "stdout",
     "output_type": "stream",
     "text": [
      "2024.09.2\n"
     ]
    }
   ],
   "source": [
    "from rdkit import Chem\n",
    "from rdkit.Chem.Draw import IPythonConsole\n",
    "IPythonConsole.ipython_3D = True\n",
    "import py3Dmol\n",
    "from rdkit.Chem import rdDepictor\n",
    "from rdkit.Chem import rdDistGeom\n",
    "from rdkit.Chem import AllChem\n",
    "import rdkit\n",
    "print(rdkit.__version__)"
   ]
  },
  {
   "cell_type": "code",
   "execution_count": 3,
   "id": "d5a20dfe-3c81-457e-85a1-e71f9952800d",
   "metadata": {},
   "outputs": [
    {
     "data": {
      "image/png": "[encoded data removed]",
      "text/plain": [
       "<rdkit.Chem.rdchem.Mol at 0x1095dce40>"
      ]
     },
     "execution_count": 3,
     "metadata": {},
     "output_type": "execute_result"
    }
   ],
   "source": [
    "reactant_1 = Chem.MolFromSmiles(\"CN=c1n(C)ccn1C\")\n",
    "reactant_1"
   ]
  },
  {
   "cell_type": "code",
   "execution_count": 4,
   "id": "08382ce0-f2f3-4757-a233-1106263f5f21",
   "metadata": {},
   "outputs": [
    {
     "data": {
      "application/3dmoljs_load.v0": "<div id=\"3dmolviewer_1731363088572086\"  style=\"position: relative; width: 400px; height: 400px;\">\n        <p id=\"3dmolwarning_1731363088572086\" style=\"background-color:#ffcccc;color:black\">3Dmol.js failed to load for some reason.  Please check your browser console for error messages.<br></p>\n        </div>\n<script>\n\nvar loadScriptAsync = function(uri){\n  return new Promise((resolve, reject) => {\n    //this is to ignore the existence of requirejs amd\n    var savedexports, savedmodule;\n    if (typeof exports !== 'undefined') savedexports = exports;\n    else exports = {}\n    if (typeof module !== 'undefined') savedmodule = module;\n    else module = {}\n\n    var tag = document.createElement('script');\n    tag.src = uri;\n    tag.async = true;\n    tag.onload = () => {\n        exports = savedexports;\n        module = savedmodule;\n        resolve();\n    };\n  var firstScriptTag = document.getElementsByTagName('script')[0];\n  firstScriptTag.parentNode.insertBefore(tag, firstScriptTag);\n});\n};\n\nif(typeof $3Dmolpromise === 'undefined') {\n$3Dmolpromise = null;\n  $3Dmolpromise = loadScriptAsync('https://cdnjs.cloudflare.com/ajax/libs/3Dmol/2.4.0/3Dmol-min.js');\n}\n\nvar viewer_1731363088572086 = null;\nvar warn = document.getElementById(\"3dmolwarning_1731363088572086\");\nif(warn) {\n    warn.parentNode.removeChild(warn);\n}\n$3Dmolpromise.then(function() {\nviewer_1731363088572086 = $3Dmol.createViewer(document.getElementById(\"3dmolviewer_1731363088572086\"),{backgroundColor:\"white\"});\nviewer_1731363088572086.zoomTo();\n\tviewer_1731363088572086.removeAllModels();\n\tviewer_1731363088572086.addModel(\"\\n     RDKit          3D\\n\\n 20 20  0  0  0  0  0  0  0  0999 V2000\\n   -1.3931    2.0780   -0.2476 C   0  0  0  0  0  0  0  0  0  0  0  0\\n   -0.1116    1.4573   -0.1808 N   0  0  0  0  0  0  0  0  0  0  0  0\\n    0.1403    0.2221   -0.0238 C   0  0  0  0  0  0  0  0  0  0  0  0\\n   -0.6376   -0.8564    0.1241 N   0  0  0  0  0  0  0  0  0  0  0  0\\n   -2.0791   -0.9080    0.1487 C   0  0  0  0  0  0  0  0  0  0  0  0\\n    0.1336   -1.9552    0.2559 C   0  0  0  0  0  0  0  0  0  0  0  0\\n    1.4489   -1.5560    0.1887 C   0  0  0  0  0  0  0  0  0  0  0  0\\n    1.4373   -0.2263    0.0182 N   0  0  0  0  0  0  0  0  0  0  0  0\\n    2.6462    0.5691   -0.0985 C   0  0  0  0  0  0  0  0  0  0  0  0\\n   -1.3239    3.1277   -0.6344 H   0  0  0  0  0  0  0  0  0  0  0  0\\n   -2.0829    1.5185   -0.9043 H   0  0  0  0  0  0  0  0  0  0  0  0\\n   -1.8817    2.1846    0.7578 H   0  0  0  0  0  0  0  0  0  0  0  0\\n   -2.4981   -0.8118   -0.8839 H   0  0  0  0  0  0  0  0  0  0  0  0\\n   -2.4662   -0.1059    0.7939 H   0  0  0  0  0  0  0  0  0  0  0  0\\n   -2.4266   -1.9032    0.5009 H   0  0  0  0  0  0  0  0  0  0  0  0\\n   -0.1809   -2.9651    0.3893 H   0  0  0  0  0  0  0  0  0  0  0  0\\n    2.3393   -2.1799    0.2581 H   0  0  0  0  0  0  0  0  0  0  0  0\\n    3.4616   -0.0422   -0.5459 H   0  0  0  0  0  0  0  0  0  0  0  0\\n    2.9767    0.9300    0.8989 H   0  0  0  0  0  0  0  0  0  0  0  0\\n    2.4978    1.4228   -0.8152 H   0  0  0  0  0  0  0  0  0  0  0  0\\n  1  2  1  0\\n  2  3  2  3\\n  3  4  1  0\\n  4  5  1  0\\n  4  6  1  0\\n  6  7  2  0\\n  7  8  1  0\\n  8  9  1  0\\n  8  3  1  0\\n  1 10  1  0\\n  1 11  1  0\\n  1 12  1  0\\n  5 13  1  0\\n  5 14  1  0\\n  5 15  1  0\\n  6 16  1  0\\n  7 17  1  0\\n  9 18  1  0\\n  9 19  1  0\\n  9 20  1  0\\nM  END\\n\",\"sdf\");\n\tviewer_1731363088572086.setStyle({\"stick\": {}});\n\tviewer_1731363088572086.setBackgroundColor(\"0xeeeeee\");\n\tviewer_1731363088572086.zoomTo();\nviewer_1731363088572086.render();\n});\n</script>",
      "text/html": [
       "<div id=\"3dmolviewer_1731363088572086\"  style=\"position: relative; width: 400px; height: 400px;\">\n",
       "        <p id=\"3dmolwarning_1731363088572086\" style=\"background-color:#ffcccc;color:black\">3Dmol.js failed to load for some reason.  Please check your browser console for error messages.<br></p>\n",
       "        </div>\n",
       "<script>\n",
       "\n",
       "var loadScriptAsync = function(uri){\n",
       "  return new Promise((resolve, reject) => {\n",
       "    //this is to ignore the existence of requirejs amd\n",
       "    var savedexports, savedmodule;\n",
       "    if (typeof exports !== 'undefined') savedexports = exports;\n",
       "    else exports = {}\n",
       "    if (typeof module !== 'undefined') savedmodule = module;\n",
       "    else module = {}\n",
       "\n",
       "    var tag = document.createElement('script');\n",
       "    tag.src = uri;\n",
       "    tag.async = true;\n",
       "    tag.onload = () => {\n",
       "        exports = savedexports;\n",
       "        module = savedmodule;\n",
       "        resolve();\n",
       "    };\n",
       "  var firstScriptTag = document.getElementsByTagName('script')[0];\n",
       "  firstScriptTag.parentNode.insertBefore(tag, firstScriptTag);\n",
       "});\n",
       "};\n",
       "\n",
       "if(typeof $3Dmolpromise === 'undefined') {\n",
       "$3Dmolpromise = null;\n",
       "  $3Dmolpromise = loadScriptAsync('https://cdnjs.cloudflare.com/ajax/libs/3Dmol/2.4.0/3Dmol-min.js');\n",
       "}\n",
       "\n",
       "var viewer_1731363088572086 = null;\n",
       "var warn = document.getElementById(\"3dmolwarning_1731363088572086\");\n",
       "if(warn) {\n",
       "    warn.parentNode.removeChild(warn);\n",
       "}\n",
       "$3Dmolpromise.then(function() {\n",
       "viewer_1731363088572086 = $3Dmol.createViewer(document.getElementById(\"3dmolviewer_1731363088572086\"),{backgroundColor:\"white\"});\n",
       "viewer_1731363088572086.zoomTo();\n",
       "\tviewer_1731363088572086.removeAllModels();\n",
       "\tviewer_1731363088572086.addModel(\"\\n     RDKit          3D\\n\\n 20 20  0  0  0  0  0  0  0  0999 V2000\\n   -1.3931    2.0780   -0.2476 C   0  0  0  0  0  0  0  0  0  0  0  0\\n   -0.1116    1.4573   -0.1808 N   0  0  0  0  0  0  0  0  0  0  0  0\\n    0.1403    0.2221   -0.0238 C   0  0  0  0  0  0  0  0  0  0  0  0\\n   -0.6376   -0.8564    0.1241 N   0  0  0  0  0  0  0  0  0  0  0  0\\n   -2.0791   -0.9080    0.1487 C   0  0  0  0  0  0  0  0  0  0  0  0\\n    0.1336   -1.9552    0.2559 C   0  0  0  0  0  0  0  0  0  0  0  0\\n    1.4489   -1.5560    0.1887 C   0  0  0  0  0  0  0  0  0  0  0  0\\n    1.4373   -0.2263    0.0182 N   0  0  0  0  0  0  0  0  0  0  0  0\\n    2.6462    0.5691   -0.0985 C   0  0  0  0  0  0  0  0  0  0  0  0\\n   -1.3239    3.1277   -0.6344 H   0  0  0  0  0  0  0  0  0  0  0  0\\n   -2.0829    1.5185   -0.9043 H   0  0  0  0  0  0  0  0  0  0  0  0\\n   -1.8817    2.1846    0.7578 H   0  0  0  0  0  0  0  0  0  0  0  0\\n   -2.4981   -0.8118   -0.8839 H   0  0  0  0  0  0  0  0  0  0  0  0\\n   -2.4662   -0.1059    0.7939 H   0  0  0  0  0  0  0  0  0  0  0  0\\n   -2.4266   -1.9032    0.5009 H   0  0  0  0  0  0  0  0  0  0  0  0\\n   -0.1809   -2.9651    0.3893 H   0  0  0  0  0  0  0  0  0  0  0  0\\n    2.3393   -2.1799    0.2581 H   0  0  0  0  0  0  0  0  0  0  0  0\\n    3.4616   -0.0422   -0.5459 H   0  0  0  0  0  0  0  0  0  0  0  0\\n    2.9767    0.9300    0.8989 H   0  0  0  0  0  0  0  0  0  0  0  0\\n    2.4978    1.4228   -0.8152 H   0  0  0  0  0  0  0  0  0  0  0  0\\n  1  2  1  0\\n  2  3  2  3\\n  3  4  1  0\\n  4  5  1  0\\n  4  6  1  0\\n  6  7  2  0\\n  7  8  1  0\\n  8  9  1  0\\n  8  3  1  0\\n  1 10  1  0\\n  1 11  1  0\\n  1 12  1  0\\n  5 13  1  0\\n  5 14  1  0\\n  5 15  1  0\\n  6 16  1  0\\n  7 17  1  0\\n  9 18  1  0\\n  9 19  1  0\\n  9 20  1  0\\nM  END\\n\",\"sdf\");\n",
       "\tviewer_1731363088572086.setStyle({\"stick\": {}});\n",
       "\tviewer_1731363088572086.setBackgroundColor(\"0xeeeeee\");\n",
       "\tviewer_1731363088572086.zoomTo();\n",
       "viewer_1731363088572086.render();\n",
       "});\n",
       "</script>"
      ]
     },
     "metadata": {},
     "output_type": "display_data"
    }
   ],
   "source": [
    "reactant_1 = Chem.AddHs(reactant_1) # Add hydrogens explicitly\n",
    "rdDistGeom.EmbedMultipleConfs(reactant_1, 10, randomSeed=0xf00d) # generate 10 conformers\n",
    "IPythonConsole.drawMol3D(reactant_1)"
   ]
  },
  {
   "cell_type": "code",
   "execution_count": 5,
   "id": "7b7f0005-7cf8-4e42-baf3-3b894487694b",
   "metadata": {},
   "outputs": [
    {
     "name": "stdout",
     "output_type": "stream",
     "text": [
      "Conformer 0 optimization result: 0\n",
      "Conformer 1 optimization result: 0\n",
      "Conformer 2 optimization result: 0\n",
      "Conformer 3 optimization result: 0\n",
      "Conformer 4 optimization result: 0\n",
      "Conformer 5 optimization result: 0\n",
      "Conformer 6 optimization result: 0\n",
      "Conformer 7 optimization result: 0\n",
      "Conformer 8 optimization result: 0\n",
      "Conformer 9 optimization result: 0\n"
     ]
    }
   ],
   "source": [
    "# Optomize conformers with MMFF94\n",
    "# Loop through each conformer by its ID\n",
    "for conf_id in range(reactant_1.GetNumConformers()):\n",
    "    result = AllChem.MMFFOptimizeMolecule(reactant_1, confId = conf_id)\n",
    "    print(f'Conformer {conf_id} optimization result: {result}')"
   ]
  },
  {
   "cell_type": "code",
   "execution_count": 6,
   "id": "16349b8d-1320-48f8-955d-d650893f0f50",
   "metadata": {},
   "outputs": [
    {
     "name": "stdout",
     "output_type": "stream",
     "text": [
      "Reactant 1 Conformer 0 saved as Reactant 1 Conformer 0.xyz\n",
      "Reactant 1 Conformer 1 saved as Reactant 1 Conformer 1.xyz\n",
      "Reactant 1 Conformer 2 saved as Reactant 1 Conformer 2.xyz\n",
      "Reactant 1 Conformer 3 saved as Reactant 1 Conformer 3.xyz\n",
      "Reactant 1 Conformer 4 saved as Reactant 1 Conformer 4.xyz\n",
      "Reactant 1 Conformer 5 saved as Reactant 1 Conformer 5.xyz\n",
      "Reactant 1 Conformer 6 saved as Reactant 1 Conformer 6.xyz\n",
      "Reactant 1 Conformer 7 saved as Reactant 1 Conformer 7.xyz\n",
      "Reactant 1 Conformer 8 saved as Reactant 1 Conformer 8.xyz\n",
      "Reactant 1 Conformer 9 saved as Reactant 1 Conformer 9.xyz\n"
     ]
    }
   ],
   "source": [
    "# Function to write each conformer to an .xyz file\n",
    "def write_conformer_to_xyz(mol, conf_id, filename):\n",
    "    conf = mol.GetConformer(conf_id)\n",
    "    with open(filename, \"w\") as f:\n",
    "        f.write(f'{mol.GetNumAtoms()}\\n') # first line is number of atoms\n",
    "        f.write(f'Reactant 1 Conformer {conf_id}\\n') # second line is name of conformer\n",
    "        for atom_idx in range(mol.GetNumAtoms()): # each atom gets a line with atom symbol and x,y,z coordinates\n",
    "            pos = conf.GetAtomPosition(atom_idx)\n",
    "            atom_symbol = mol.GetAtomWithIdx(atom_idx).GetSymbol()\n",
    "            f.write(f'{atom_symbol} {pos.x:.6f} {pos.y:.6f} {pos.z:.6f}\\n')\n",
    "\n",
    "# Export each conformer to an .xyz file\n",
    "for conf_id in range(reactant_1.GetNumConformers()):\n",
    "    filename = f'Reactant 1 Conformer {conf_id}.xyz'\n",
    "    write_conformer_to_xyz(reactant_1, conf_id, filename)\n",
    "    print(f'Reactant 1 Conformer {conf_id} saved as {filename}')"
   ]
  },
  {
   "cell_type": "code",
   "execution_count": null,
   "id": "7c5fa4e8-06fe-43d1-88e0-c39da8a4abdd",
   "metadata": {},
   "outputs": [],
   "source": [
    "# Generate Product 1 Conformers and Optimize"
   ]
  },
  {
   "cell_type": "code",
   "execution_count": 7,
   "id": "bf20ab6e-3042-43b1-a9ed-c33830339f97",
   "metadata": {},
   "outputs": [
    {
     "data": {
      "image/png": "[encoded data removed]",
      "text/plain": [
       "<rdkit.Chem.rdchem.Mol at 0x10a177a00>"
      ]
     },
     "execution_count": 7,
     "metadata": {},
     "output_type": "execute_result"
    }
   ],
   "source": [
    "product_1 = Chem.MolFromSmiles('CN(C(=O)[O-])[c+]1n(C)ccn1C')\n",
    "product_1"
   ]
  },
  {
   "cell_type": "code",
   "execution_count": 8,
   "id": "47ec30e9-09e1-4a28-b471-608dfb439f5f",
   "metadata": {},
   "outputs": [
    {
     "data": {
      "application/3dmoljs_load.v0": "<div id=\"3dmolviewer_1731367244627647\"  style=\"position: relative; width: 400px; height: 400px;\">\n        <p id=\"3dmolwarning_1731367244627647\" style=\"background-color:#ffcccc;color:black\">3Dmol.js failed to load for some reason.  Please check your browser console for error messages.<br></p>\n        </div>\n<script>\n\nvar loadScriptAsync = function(uri){\n  return new Promise((resolve, reject) => {\n    //this is to ignore the existence of requirejs amd\n    var savedexports, savedmodule;\n    if (typeof exports !== 'undefined') savedexports = exports;\n    else exports = {}\n    if (typeof module !== 'undefined') savedmodule = module;\n    else module = {}\n\n    var tag = document.createElement('script');\n    tag.src = uri;\n    tag.async = true;\n    tag.onload = () => {\n        exports = savedexports;\n        module = savedmodule;\n        resolve();\n    };\n  var firstScriptTag = document.getElementsByTagName('script')[0];\n  firstScriptTag.parentNode.insertBefore(tag, firstScriptTag);\n});\n};\n\nif(typeof $3Dmolpromise === 'undefined') {\n$3Dmolpromise = null;\n  $3Dmolpromise = loadScriptAsync('https://cdnjs.cloudflare.com/ajax/libs/3Dmol/2.4.0/3Dmol-min.js');\n}\n\nvar viewer_1731367244627647 = null;\nvar warn = document.getElementById(\"3dmolwarning_1731367244627647\");\nif(warn) {\n    warn.parentNode.removeChild(warn);\n}\n$3Dmolpromise.then(function() {\nviewer_1731367244627647 = $3Dmol.createViewer(document.getElementById(\"3dmolviewer_1731367244627647\"),{backgroundColor:\"white\"});\nviewer_1731367244627647.zoomTo();\n\tviewer_1731367244627647.removeAllModels();\n\tviewer_1731367244627647.addModel(\"\\n     RDKit          3D\\n\\n 23 23  0  0  0  0  0  0  0  0999 V2000\\n    1.8158   -1.2285    0.5322 C   0  0  0  0  0  0  0  0  0  0  0  0\\n    0.9173   -0.6682   -0.4575 N   0  0  0  0  0  0  0  0  0  0  0  0\\n    1.1381   -0.9559   -1.8338 C   0  0  0  0  0  0  0  0  0  0  0  0\\n    2.1110   -1.6963   -2.2057 O   0  0  0  0  0  0  0  0  0  0  0  0\\n    0.2694   -0.4144   -2.7926 O   0  0  0  0  0  1  0  0  0  0  0  0\\n   -0.1468    0.1468    0.0062 C   0  0  0  0  0  3  0  0  0  0  0  0\\n   -1.3573   -0.3429    0.3303 N   0  0  0  0  0  0  0  0  0  0  0  0\\n   -1.7563   -1.7555    0.2574 C   0  0  0  0  0  0  0  0  0  0  0  0\\n   -2.1483    0.6848    0.7356 C   0  0  0  0  0  0  0  0  0  0  0  0\\n   -1.3567    1.8123    0.6396 C   0  0  0  0  0  0  0  0  0  0  0  0\\n   -0.1177    1.4631    0.1858 N   0  0  0  0  0  0  0  0  0  0  0  0\\n    1.0161    2.3510   -0.0561 C   0  0  0  0  0  0  0  0  0  0  0  0\\n    1.3886   -2.1403    1.0002 H   0  0  0  0  0  0  0  0  0  0  0  0\\n    1.9665   -0.5059    1.3714 H   0  0  0  0  0  0  0  0  0  0  0  0\\n    2.7905   -1.5078    0.1135 H   0  0  0  0  0  0  0  0  0  0  0  0\\n   -1.3589   -2.3342    1.1287 H   0  0  0  0  0  0  0  0  0  0  0  0\\n   -1.3401   -2.2485   -0.6499 H   0  0  0  0  0  0  0  0  0  0  0  0\\n   -2.8710   -1.8291    0.1722 H   0  0  0  0  0  0  0  0  0  0  0  0\\n   -3.1941    0.6283    1.0681 H   0  0  0  0  0  0  0  0  0  0  0  0\\n   -1.6881    2.8310    0.8938 H   0  0  0  0  0  0  0  0  0  0  0  0\\n    1.8616    1.9970    0.5659 H   0  0  0  0  0  0  0  0  0  0  0  0\\n    1.3309    2.3140   -1.1276 H   0  0  0  0  0  0  0  0  0  0  0  0\\n    0.7292    3.3990    0.1222 H   0  0  0  0  0  0  0  0  0  0  0  0\\n  1  2  1  0\\n  2  3  1  0\\n  3  4  2  0\\n  3  5  1  0\\n  2  6  1  0\\n  6  7  1  0\\n  7  8  1  0\\n  7  9  1  0\\n  9 10  2  0\\n 10 11  1  0\\n 11 12  1  0\\n 11  6  1  0\\n  1 13  1  0\\n  1 14  1  0\\n  1 15  1  0\\n  8 16  1  0\\n  8 17  1  0\\n  8 18  1  0\\n  9 19  1  0\\n 10 20  1  0\\n 12 21  1  0\\n 12 22  1  0\\n 12 23  1  0\\nM  CHG  2   5  -1   6   1\\nM  END\\n\",\"sdf\");\n\tviewer_1731367244627647.setStyle({\"stick\": {}});\n\tviewer_1731367244627647.setBackgroundColor(\"0xeeeeee\");\n\tviewer_1731367244627647.zoomTo();\nviewer_1731367244627647.render();\n});\n</script>",
      "text/html": [
       "<div id=\"3dmolviewer_1731367244627647\"  style=\"position: relative; width: 400px; height: 400px;\">\n",
       "        <p id=\"3dmolwarning_1731367244627647\" style=\"background-color:#ffcccc;color:black\">3Dmol.js failed to load for some reason.  Please check your browser console for error messages.<br></p>\n",
       "        </div>\n",
       "<script>\n",
       "\n",
       "var loadScriptAsync = function(uri){\n",
       "  return new Promise((resolve, reject) => {\n",
       "    //this is to ignore the existence of requirejs amd\n",
       "    var savedexports, savedmodule;\n",
       "    if (typeof exports !== 'undefined') savedexports = exports;\n",
       "    else exports = {}\n",
       "    if (typeof module !== 'undefined') savedmodule = module;\n",
       "    else module = {}\n",
       "\n",
       "    var tag = document.createElement('script');\n",
       "    tag.src = uri;\n",
       "    tag.async = true;\n",
       "    tag.onload = () => {\n",
       "        exports = savedexports;\n",
       "        module = savedmodule;\n",
       "        resolve();\n",
       "    };\n",
       "  var firstScriptTag = document.getElementsByTagName('script')[0];\n",
       "  firstScriptTag.parentNode.insertBefore(tag, firstScriptTag);\n",
       "});\n",
       "};\n",
       "\n",
       "if(typeof $3Dmolpromise === 'undefined') {\n",
       "$3Dmolpromise = null;\n",
       "  $3Dmolpromise = loadScriptAsync('https://cdnjs.cloudflare.com/ajax/libs/3Dmol/2.4.0/3Dmol-min.js');\n",
       "}\n",
       "\n",
       "var viewer_1731367244627647 = null;\n",
       "var warn = document.getElementById(\"3dmolwarning_1731367244627647\");\n",
       "if(warn) {\n",
       "    warn.parentNode.removeChild(warn);\n",
       "}\n",
       "$3Dmolpromise.then(function() {\n",
       "viewer_1731367244627647 = $3Dmol.createViewer(document.getElementById(\"3dmolviewer_1731367244627647\"),{backgroundColor:\"white\"});\n",
       "viewer_1731367244627647.zoomTo();\n",
       "\tviewer_1731367244627647.removeAllModels();\n",
       "\tviewer_1731367244627647.addModel(\"\\n     RDKit          3D\\n\\n 23 23  0  0  0  0  0  0  0  0999 V2000\\n    1.8158   -1.2285    0.5322 C   0  0  0  0  0  0  0  0  0  0  0  0\\n    0.9173   -0.6682   -0.4575 N   0  0  0  0  0  0  0  0  0  0  0  0\\n    1.1381   -0.9559   -1.8338 C   0  0  0  0  0  0  0  0  0  0  0  0\\n    2.1110   -1.6963   -2.2057 O   0  0  0  0  0  0  0  0  0  0  0  0\\n    0.2694   -0.4144   -2.7926 O   0  0  0  0  0  1  0  0  0  0  0  0\\n   -0.1468    0.1468    0.0062 C   0  0  0  0  0  3  0  0  0  0  0  0\\n   -1.3573   -0.3429    0.3303 N   0  0  0  0  0  0  0  0  0  0  0  0\\n   -1.7563   -1.7555    0.2574 C   0  0  0  0  0  0  0  0  0  0  0  0\\n   -2.1483    0.6848    0.7356 C   0  0  0  0  0  0  0  0  0  0  0  0\\n   -1.3567    1.8123    0.6396 C   0  0  0  0  0  0  0  0  0  0  0  0\\n   -0.1177    1.4631    0.1858 N   0  0  0  0  0  0  0  0  0  0  0  0\\n    1.0161    2.3510   -0.0561 C   0  0  0  0  0  0  0  0  0  0  0  0\\n    1.3886   -2.1403    1.0002 H   0  0  0  0  0  0  0  0  0  0  0  0\\n    1.9665   -0.5059    1.3714 H   0  0  0  0  0  0  0  0  0  0  0  0\\n    2.7905   -1.5078    0.1135 H   0  0  0  0  0  0  0  0  0  0  0  0\\n   -1.3589   -2.3342    1.1287 H   0  0  0  0  0  0  0  0  0  0  0  0\\n   -1.3401   -2.2485   -0.6499 H   0  0  0  0  0  0  0  0  0  0  0  0\\n   -2.8710   -1.8291    0.1722 H   0  0  0  0  0  0  0  0  0  0  0  0\\n   -3.1941    0.6283    1.0681 H   0  0  0  0  0  0  0  0  0  0  0  0\\n   -1.6881    2.8310    0.8938 H   0  0  0  0  0  0  0  0  0  0  0  0\\n    1.8616    1.9970    0.5659 H   0  0  0  0  0  0  0  0  0  0  0  0\\n    1.3309    2.3140   -1.1276 H   0  0  0  0  0  0  0  0  0  0  0  0\\n    0.7292    3.3990    0.1222 H   0  0  0  0  0  0  0  0  0  0  0  0\\n  1  2  1  0\\n  2  3  1  0\\n  3  4  2  0\\n  3  5  1  0\\n  2  6  1  0\\n  6  7  1  0\\n  7  8  1  0\\n  7  9  1  0\\n  9 10  2  0\\n 10 11  1  0\\n 11 12  1  0\\n 11  6  1  0\\n  1 13  1  0\\n  1 14  1  0\\n  1 15  1  0\\n  8 16  1  0\\n  8 17  1  0\\n  8 18  1  0\\n  9 19  1  0\\n 10 20  1  0\\n 12 21  1  0\\n 12 22  1  0\\n 12 23  1  0\\nM  CHG  2   5  -1   6   1\\nM  END\\n\",\"sdf\");\n",
       "\tviewer_1731367244627647.setStyle({\"stick\": {}});\n",
       "\tviewer_1731367244627647.setBackgroundColor(\"0xeeeeee\");\n",
       "\tviewer_1731367244627647.zoomTo();\n",
       "viewer_1731367244627647.render();\n",
       "});\n",
       "</script>"
      ]
     },
     "metadata": {},
     "output_type": "display_data"
    }
   ],
   "source": [
    "product_1 = Chem.AddHs(product_1)\n",
    "\n",
    "rdDistGeom.EmbedMultipleConfs(product_1, 10, randomSeed=0xf00d) # generate 10 conformers\n",
    "IPythonConsole.drawMol3D(product_1)"
   ]
  },
  {
   "cell_type": "code",
   "execution_count": 9,
   "id": "61c9c553-2ec9-4ed8-98c5-595f5541ab6f",
   "metadata": {},
   "outputs": [
    {
     "name": "stdout",
     "output_type": "stream",
     "text": [
      "Conformer 0 optimization result: 0\n",
      "Conformer 1 optimization result: 0\n",
      "Conformer 2 optimization result: 0\n",
      "Conformer 3 optimization result: 0\n",
      "Conformer 4 optimization result: 0\n",
      "Conformer 5 optimization result: 0\n",
      "Conformer 6 optimization result: 0\n",
      "Conformer 7 optimization result: 0\n",
      "Conformer 8 optimization result: 0\n",
      "Conformer 9 optimization result: 0\n"
     ]
    }
   ],
   "source": [
    "# Optomize conformers with MMFF94\n",
    "# Loop through each conformer by its ID\n",
    "for conf_id in range(product_1.GetNumConformers()):\n",
    "    # Optimize each conformer by specifying the molecule and the conformer ID\n",
    "    result = AllChem.MMFFOptimizeMolecule(product_1, confId=conf_id)\n",
    "    print(f\"Conformer {conf_id} optimization result: {result}\")"
   ]
  },
  {
   "cell_type": "code",
   "execution_count": 10,
   "id": "5f766ad6-e622-4cb0-93ed-673e1d1b7307",
   "metadata": {},
   "outputs": [
    {
     "name": "stdout",
     "output_type": "stream",
     "text": [
      "Product 1 Conformer 0 saved as Product 1 Conformer 0.xyz\n",
      "Product 1 Conformer 1 saved as Product 1 Conformer 1.xyz\n",
      "Product 1 Conformer 2 saved as Product 1 Conformer 2.xyz\n",
      "Product 1 Conformer 3 saved as Product 1 Conformer 3.xyz\n",
      "Product 1 Conformer 4 saved as Product 1 Conformer 4.xyz\n",
      "Product 1 Conformer 5 saved as Product 1 Conformer 5.xyz\n",
      "Product 1 Conformer 6 saved as Product 1 Conformer 6.xyz\n",
      "Product 1 Conformer 7 saved as Product 1 Conformer 7.xyz\n",
      "Product 1 Conformer 8 saved as Product 1 Conformer 8.xyz\n",
      "Product 1 Conformer 9 saved as Product 1 Conformer 9.xyz\n"
     ]
    }
   ],
   "source": [
    "# Export each conformer to an .xyz file\n",
    "for conf_id in range(product_1.GetNumConformers()):\n",
    "    filename = f'Product 1 Conformer {conf_id}.xyz'\n",
    "    write_conformer_to_xyz(product_1, conf_id, filename)\n",
    "    print(f'Product 1 Conformer {conf_id} saved as {filename}')"
   ]
  },
  {
   "cell_type": "code",
   "execution_count": null,
   "id": "10b2b483-df38-4aa1-8aa3-dde2d142b3c4",
   "metadata": {},
   "outputs": [],
   "source": []
  }
 ],
 "metadata": {
  "kernelspec": {
   "display_name": "Python [conda env:my-rdkit-env] *",
   "language": "python",
   "name": "conda-env-my-rdkit-env-py"
  },
  "language_info": {
   "codemirror_mode": {
    "name": "ipython",
    "version": 3
   },
   "file_extension": ".py",
   "mimetype": "text/x-python",
   "name": "python",
   "nbconvert_exporter": "python",
   "pygments_lexer": "ipython3",
   "version": "3.13.0"
  }
 },
 "nbformat": 4,
 "nbformat_minor": 5
}
