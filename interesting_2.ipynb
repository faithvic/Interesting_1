{
 "cells": [
  {
   "cell_type": "code",
   "execution_count": 2,
   "id": "a8233467-e1cc-4e01-b66d-ad728c57a8d8",
   "metadata": {},
   "outputs": [
    {
     "name": "stdout",
     "output_type": "stream",
     "text": [
      "2024.09.2\n"
     ]
    }
   ],
   "source": [
    "from rdkit import Chem\n",
    "from rdkit.Chem.Draw import IPythonConsole\n",
    "IPythonConsole.ipython_3D = True\n",
    "import py3Dmol\n",
    "from rdkit.Chem import rdDepictor\n",
    "from rdkit.Chem import rdDistGeom\n",
    "from rdkit.Chem import AllChem\n",
    "import rdkit\n",
    "print(rdkit.__version__)"
   ]
  },
  {
   "cell_type": "code",
   "execution_count": 4,
   "id": "d5a20dfe-3c81-457e-85a1-e71f9952800d",
   "metadata": {},
   "outputs": [
    {
     "data": {
      "image/png": "[encoded data removed]",
      "text/plain": [
       "<rdkit.Chem.rdchem.Mol at 0x122b7bdf0>"
      ]
     },
     "execution_count": 4,
     "metadata": {},
     "output_type": "execute_result"
    }
   ],
   "source": [
    "reactant_2 = Chem.MolFromSmiles(\"CC(C)N=c1n(C(C)(C)C)ccn1C(C)(C)C\")\n",
    "reactant_2"
   ]
  },
  {
   "cell_type": "code",
   "execution_count": 5,
   "id": "08382ce0-f2f3-4757-a233-1106263f5f21",
   "metadata": {},
   "outputs": [
    {
     "data": {
      "application/3dmoljs_load.v0": "<div id=\"3dmolviewer_17313819382390022\"  style=\"position: relative; width: 400px; height: 400px;\">\n        <p id=\"3dmolwarning_17313819382390022\" style=\"background-color:#ffcccc;color:black\">3Dmol.js failed to load for some reason.  Please check your browser console for error messages.<br></p>\n        </div>\n<script>\n\nvar loadScriptAsync = function(uri){\n  return new Promise((resolve, reject) => {\n    //this is to ignore the existence of requirejs amd\n    var savedexports, savedmodule;\n    if (typeof exports !== 'undefined') savedexports = exports;\n    else exports = {}\n    if (typeof module !== 'undefined') savedmodule = module;\n    else module = {}\n\n    var tag = document.createElement('script');\n    tag.src = uri;\n    tag.async = true;\n    tag.onload = () => {\n        exports = savedexports;\n        module = savedmodule;\n        resolve();\n    };\n  var firstScriptTag = document.getElementsByTagName('script')[0];\n  firstScriptTag.parentNode.insertBefore(tag, firstScriptTag);\n});\n};\n\nif(typeof $3Dmolpromise === 'undefined') {\n$3Dmolpromise = null;\n  $3Dmolpromise = loadScriptAsync('https://cdnjs.cloudflare.com/ajax/libs/3Dmol/2.4.0/3Dmol-min.js');\n}\n\nvar viewer_17313819382390022 = null;\nvar warn = document.getElementById(\"3dmolwarning_17313819382390022\");\nif(warn) {\n    warn.parentNode.removeChild(warn);\n}\n$3Dmolpromise.then(function() {\nviewer_17313819382390022 = $3Dmol.createViewer(document.getElementById(\"3dmolviewer_17313819382390022\"),{backgroundColor:\"white\"});\nviewer_17313819382390022.zoomTo();\n\tviewer_17313819382390022.removeAllModels();\n\tviewer_17313819382390022.addModel(\"\\n     RDKit          3D\\n\\n 44 44  0  0  0  0  0  0  0  0999 V2000\\n   -1.6278    2.4138    1.5578 C   0  0  0  0  0  0  0  0  0  0  0  0\\n   -0.5066    2.0611    0.5354 C   0  0  0  0  0  0  0  0  0  0  0  0\\n   -0.7648    2.9721   -0.6547 C   0  0  0  0  0  0  0  0  0  0  0  0\\n   -0.6259    0.7020    0.2603 N   0  0  0  0  0  0  0  0  0  0  0  0\\n    0.0526   -0.2915   -0.0130 C   0  0  0  0  0  0  0  0  0  0  0  0\\n    1.3909   -0.4975   -0.1827 N   0  0  0  0  0  0  0  0  0  0  0  0\\n    2.4717    0.4606   -0.0870 C   0  0  0  0  0  0  0  0  0  0  0  0\\n    3.7607   -0.2540   -0.5473 C   0  0  0  0  0  0  0  0  0  0  0  0\\n    2.7793    0.8904    1.3226 C   0  0  0  0  0  0  0  0  0  0  0  0\\n    2.3348    1.6553   -0.9623 C   0  0  0  0  0  0  0  0  0  0  0  0\\n    1.5921   -1.8173   -0.4756 C   0  0  0  0  0  0  0  0  0  0  0  0\\n    0.3707   -2.4386   -0.4887 C   0  0  0  0  0  0  0  0  0  0  0  0\\n   -0.5471   -1.5210   -0.2113 N   0  0  0  0  0  0  0  0  0  0  0  0\\n   -1.9714   -1.8099   -0.1363 C   0  0  0  0  0  0  0  0  0  0  0  0\\n   -2.2570   -3.0951    0.6219 C   0  0  0  0  0  0  0  0  0  0  0  0\\n   -2.7738   -0.7320    0.5332 C   0  0  0  0  0  0  0  0  0  0  0  0\\n   -2.4846   -2.0232   -1.5457 C   0  0  0  0  0  0  0  0  0  0  0  0\\n   -1.4692    3.4398    1.9607 H   0  0  0  0  0  0  0  0  0  0  0  0\\n   -1.5953    1.7137    2.3984 H   0  0  0  0  0  0  0  0  0  0  0  0\\n   -2.5876    2.3756    1.0326 H   0  0  0  0  0  0  0  0  0  0  0  0\\n    0.3996    2.4245    1.0358 H   0  0  0  0  0  0  0  0  0  0  0  0\\n    0.0125    3.7586   -0.6727 H   0  0  0  0  0  0  0  0  0  0  0  0\\n   -1.7237    3.5213   -0.5836 H   0  0  0  0  0  0  0  0  0  0  0  0\\n   -0.7265    2.4307   -1.6243 H   0  0  0  0  0  0  0  0  0  0  0  0\\n    4.0707   -1.0240    0.1755 H   0  0  0  0  0  0  0  0  0  0  0  0\\n    4.5070    0.5539   -0.6572 H   0  0  0  0  0  0  0  0  0  0  0  0\\n    3.5381   -0.7069   -1.5435 H   0  0  0  0  0  0  0  0  0  0  0  0\\n    3.1599    1.9231    1.2912 H   0  0  0  0  0  0  0  0  0  0  0  0\\n    1.8830    0.8248    1.9878 H   0  0  0  0  0  0  0  0  0  0  0  0\\n    3.5012    0.1886    1.7619 H   0  0  0  0  0  0  0  0  0  0  0  0\\n    3.2593    1.7734   -1.5679 H   0  0  0  0  0  0  0  0  0  0  0  0\\n    2.2614    2.6176   -0.4037 H   0  0  0  0  0  0  0  0  0  0  0  0\\n    1.4984    1.5390   -1.7097 H   0  0  0  0  0  0  0  0  0  0  0  0\\n    2.5166   -2.3308   -0.6697 H   0  0  0  0  0  0  0  0  0  0  0  0\\n    0.1910   -3.4715   -0.6860 H   0  0  0  0  0  0  0  0  0  0  0  0\\n   -2.2471   -3.9663   -0.0760 H   0  0  0  0  0  0  0  0  0  0  0  0\\n   -1.4732   -3.3057    1.3918 H   0  0  0  0  0  0  0  0  0  0  0  0\\n   -3.2497   -3.0800    1.0857 H   0  0  0  0  0  0  0  0  0  0  0  0\\n   -2.3213   -0.4201    1.4973 H   0  0  0  0  0  0  0  0  0  0  0  0\\n   -3.7601   -1.1779    0.7810 H   0  0  0  0  0  0  0  0  0  0  0  0\\n   -2.9855    0.1402   -0.1086 H   0  0  0  0  0  0  0  0  0  0  0  0\\n   -2.3339   -1.1602   -2.2041 H   0  0  0  0  0  0  0  0  0  0  0  0\\n   -1.9663   -2.9195   -1.9619 H   0  0  0  0  0  0  0  0  0  0  0  0\\n   -3.5533   -2.3372   -1.4579 H   0  0  0  0  0  0  0  0  0  0  0  0\\n  1  2  1  0\\n  2  3  1  0\\n  2  4  1  0\\n  4  5  2  3\\n  5  6  1  0\\n  6  7  1  0\\n  7  8  1  0\\n  7  9  1  0\\n  7 10  1  0\\n  6 11  1  0\\n 11 12  2  0\\n 12 13  1  0\\n 13 14  1  0\\n 14 15  1  0\\n 14 16  1  0\\n 14 17  1  0\\n 13  5  1  0\\n  1 18  1  0\\n  1 19  1  0\\n  1 20  1  0\\n  2 21  1  0\\n  3 22  1  0\\n  3 23  1  0\\n  3 24  1  0\\n  8 25  1  0\\n  8 26  1  0\\n  8 27  1  0\\n  9 28  1  0\\n  9 29  1  0\\n  9 30  1  0\\n 10 31  1  0\\n 10 32  1  0\\n 10 33  1  0\\n 11 34  1  0\\n 12 35  1  0\\n 15 36  1  0\\n 15 37  1  0\\n 15 38  1  0\\n 16 39  1  0\\n 16 40  1  0\\n 16 41  1  0\\n 17 42  1  0\\n 17 43  1  0\\n 17 44  1  0\\nM  END\\n\",\"sdf\");\n\tviewer_17313819382390022.setStyle({\"stick\": {}});\n\tviewer_17313819382390022.setBackgroundColor(\"0xeeeeee\");\n\tviewer_17313819382390022.zoomTo();\nviewer_17313819382390022.render();\n});\n</script>",
      "text/html": [
       "<div id=\"3dmolviewer_17313819382390022\"  style=\"position: relative; width: 400px; height: 400px;\">\n",
       "        <p id=\"3dmolwarning_17313819382390022\" style=\"background-color:#ffcccc;color:black\">3Dmol.js failed to load for some reason.  Please check your browser console for error messages.<br></p>\n",
       "        </div>\n",
       "<script>\n",
       "\n",
       "var loadScriptAsync = function(uri){\n",
       "  return new Promise((resolve, reject) => {\n",
       "    //this is to ignore the existence of requirejs amd\n",
       "    var savedexports, savedmodule;\n",
       "    if (typeof exports !== 'undefined') savedexports = exports;\n",
       "    else exports = {}\n",
       "    if (typeof module !== 'undefined') savedmodule = module;\n",
       "    else module = {}\n",
       "\n",
       "    var tag = document.createElement('script');\n",
       "    tag.src = uri;\n",
       "    tag.async = true;\n",
       "    tag.onload = () => {\n",
       "        exports = savedexports;\n",
       "        module = savedmodule;\n",
       "        resolve();\n",
       "    };\n",
       "  var firstScriptTag = document.getElementsByTagName('script')[0];\n",
       "  firstScriptTag.parentNode.insertBefore(tag, firstScriptTag);\n",
       "});\n",
       "};\n",
       "\n",
       "if(typeof $3Dmolpromise === 'undefined') {\n",
       "$3Dmolpromise = null;\n",
       "  $3Dmolpromise = loadScriptAsync('https://cdnjs.cloudflare.com/ajax/libs/3Dmol/2.4.0/3Dmol-min.js');\n",
       "}\n",
       "\n",
       "var viewer_17313819382390022 = null;\n",
       "var warn = document.getElementById(\"3dmolwarning_17313819382390022\");\n",
       "if(warn) {\n",
       "    warn.parentNode.removeChild(warn);\n",
       "}\n",
       "$3Dmolpromise.then(function() {\n",
       "viewer_17313819382390022 = $3Dmol.createViewer(document.getElementById(\"3dmolviewer_17313819382390022\"),{backgroundColor:\"white\"});\n",
       "viewer_17313819382390022.zoomTo();\n",
       "\tviewer_17313819382390022.removeAllModels();\n",
       "\tviewer_17313819382390022.addModel(\"\\n     RDKit          3D\\n\\n 44 44  0  0  0  0  0  0  0  0999 V2000\\n   -1.6278    2.4138    1.5578 C   0  0  0  0  0  0  0  0  0  0  0  0\\n   -0.5066    2.0611    0.5354 C   0  0  0  0  0  0  0  0  0  0  0  0\\n   -0.7648    2.9721   -0.6547 C   0  0  0  0  0  0  0  0  0  0  0  0\\n   -0.6259    0.7020    0.2603 N   0  0  0  0  0  0  0  0  0  0  0  0\\n    0.0526   -0.2915   -0.0130 C   0  0  0  0  0  0  0  0  0  0  0  0\\n    1.3909   -0.4975   -0.1827 N   0  0  0  0  0  0  0  0  0  0  0  0\\n    2.4717    0.4606   -0.0870 C   0  0  0  0  0  0  0  0  0  0  0  0\\n    3.7607   -0.2540   -0.5473 C   0  0  0  0  0  0  0  0  0  0  0  0\\n    2.7793    0.8904    1.3226 C   0  0  0  0  0  0  0  0  0  0  0  0\\n    2.3348    1.6553   -0.9623 C   0  0  0  0  0  0  0  0  0  0  0  0\\n    1.5921   -1.8173   -0.4756 C   0  0  0  0  0  0  0  0  0  0  0  0\\n    0.3707   -2.4386   -0.4887 C   0  0  0  0  0  0  0  0  0  0  0  0\\n   -0.5471   -1.5210   -0.2113 N   0  0  0  0  0  0  0  0  0  0  0  0\\n   -1.9714   -1.8099   -0.1363 C   0  0  0  0  0  0  0  0  0  0  0  0\\n   -2.2570   -3.0951    0.6219 C   0  0  0  0  0  0  0  0  0  0  0  0\\n   -2.7738   -0.7320    0.5332 C   0  0  0  0  0  0  0  0  0  0  0  0\\n   -2.4846   -2.0232   -1.5457 C   0  0  0  0  0  0  0  0  0  0  0  0\\n   -1.4692    3.4398    1.9607 H   0  0  0  0  0  0  0  0  0  0  0  0\\n   -1.5953    1.7137    2.3984 H   0  0  0  0  0  0  0  0  0  0  0  0\\n   -2.5876    2.3756    1.0326 H   0  0  0  0  0  0  0  0  0  0  0  0\\n    0.3996    2.4245    1.0358 H   0  0  0  0  0  0  0  0  0  0  0  0\\n    0.0125    3.7586   -0.6727 H   0  0  0  0  0  0  0  0  0  0  0  0\\n   -1.7237    3.5213   -0.5836 H   0  0  0  0  0  0  0  0  0  0  0  0\\n   -0.7265    2.4307   -1.6243 H   0  0  0  0  0  0  0  0  0  0  0  0\\n    4.0707   -1.0240    0.1755 H   0  0  0  0  0  0  0  0  0  0  0  0\\n    4.5070    0.5539   -0.6572 H   0  0  0  0  0  0  0  0  0  0  0  0\\n    3.5381   -0.7069   -1.5435 H   0  0  0  0  0  0  0  0  0  0  0  0\\n    3.1599    1.9231    1.2912 H   0  0  0  0  0  0  0  0  0  0  0  0\\n    1.8830    0.8248    1.9878 H   0  0  0  0  0  0  0  0  0  0  0  0\\n    3.5012    0.1886    1.7619 H   0  0  0  0  0  0  0  0  0  0  0  0\\n    3.2593    1.7734   -1.5679 H   0  0  0  0  0  0  0  0  0  0  0  0\\n    2.2614    2.6176   -0.4037 H   0  0  0  0  0  0  0  0  0  0  0  0\\n    1.4984    1.5390   -1.7097 H   0  0  0  0  0  0  0  0  0  0  0  0\\n    2.5166   -2.3308   -0.6697 H   0  0  0  0  0  0  0  0  0  0  0  0\\n    0.1910   -3.4715   -0.6860 H   0  0  0  0  0  0  0  0  0  0  0  0\\n   -2.2471   -3.9663   -0.0760 H   0  0  0  0  0  0  0  0  0  0  0  0\\n   -1.4732   -3.3057    1.3918 H   0  0  0  0  0  0  0  0  0  0  0  0\\n   -3.2497   -3.0800    1.0857 H   0  0  0  0  0  0  0  0  0  0  0  0\\n   -2.3213   -0.4201    1.4973 H   0  0  0  0  0  0  0  0  0  0  0  0\\n   -3.7601   -1.1779    0.7810 H   0  0  0  0  0  0  0  0  0  0  0  0\\n   -2.9855    0.1402   -0.1086 H   0  0  0  0  0  0  0  0  0  0  0  0\\n   -2.3339   -1.1602   -2.2041 H   0  0  0  0  0  0  0  0  0  0  0  0\\n   -1.9663   -2.9195   -1.9619 H   0  0  0  0  0  0  0  0  0  0  0  0\\n   -3.5533   -2.3372   -1.4579 H   0  0  0  0  0  0  0  0  0  0  0  0\\n  1  2  1  0\\n  2  3  1  0\\n  2  4  1  0\\n  4  5  2  3\\n  5  6  1  0\\n  6  7  1  0\\n  7  8  1  0\\n  7  9  1  0\\n  7 10  1  0\\n  6 11  1  0\\n 11 12  2  0\\n 12 13  1  0\\n 13 14  1  0\\n 14 15  1  0\\n 14 16  1  0\\n 14 17  1  0\\n 13  5  1  0\\n  1 18  1  0\\n  1 19  1  0\\n  1 20  1  0\\n  2 21  1  0\\n  3 22  1  0\\n  3 23  1  0\\n  3 24  1  0\\n  8 25  1  0\\n  8 26  1  0\\n  8 27  1  0\\n  9 28  1  0\\n  9 29  1  0\\n  9 30  1  0\\n 10 31  1  0\\n 10 32  1  0\\n 10 33  1  0\\n 11 34  1  0\\n 12 35  1  0\\n 15 36  1  0\\n 15 37  1  0\\n 15 38  1  0\\n 16 39  1  0\\n 16 40  1  0\\n 16 41  1  0\\n 17 42  1  0\\n 17 43  1  0\\n 17 44  1  0\\nM  END\\n\",\"sdf\");\n",
       "\tviewer_17313819382390022.setStyle({\"stick\": {}});\n",
       "\tviewer_17313819382390022.setBackgroundColor(\"0xeeeeee\");\n",
       "\tviewer_17313819382390022.zoomTo();\n",
       "viewer_17313819382390022.render();\n",
       "});\n",
       "</script>"
      ]
     },
     "metadata": {},
     "output_type": "display_data"
    }
   ],
   "source": [
    "reactant_2 = Chem.AddHs(reactant_2) # Add hydrogens explicitly\n",
    "rdDistGeom.EmbedMultipleConfs(reactant_2, 10, randomSeed=0xf00d) # generate 10 conformers\n",
    "IPythonConsole.drawMol3D(reactant_2)"
   ]
  },
  {
   "cell_type": "code",
   "execution_count": 6,
   "id": "7b7f0005-7cf8-4e42-baf3-3b894487694b",
   "metadata": {},
   "outputs": [
    {
     "name": "stdout",
     "output_type": "stream",
     "text": [
      "Conformer 0 optimization result: 0\n",
      "Conformer 1 optimization result: 0\n",
      "Conformer 2 optimization result: 0\n",
      "Conformer 3 optimization result: 0\n",
      "Conformer 4 optimization result: 0\n",
      "Conformer 5 optimization result: 0\n",
      "Conformer 6 optimization result: 0\n",
      "Conformer 7 optimization result: 0\n",
      "Conformer 8 optimization result: 0\n",
      "Conformer 9 optimization result: 0\n"
     ]
    }
   ],
   "source": [
    "# Optomize conformers with MMFF94\n",
    "# Loop through each conformer by its ID\n",
    "for conf_id in range(reactant_2.GetNumConformers()):\n",
    "    result = AllChem.MMFFOptimizeMolecule(reactant_2, confId = conf_id)\n",
    "    print(f'Conformer {conf_id} optimization result: {result}')"
   ]
  },
  {
   "cell_type": "code",
   "execution_count": 7,
   "id": "16349b8d-1320-48f8-955d-d650893f0f50",
   "metadata": {},
   "outputs": [
    {
     "name": "stdout",
     "output_type": "stream",
     "text": [
      "Reactant 2 Conformer 0 saved as Reactant 2 Conformer 0.xyz\n",
      "Reactant 2 Conformer 1 saved as Reactant 2 Conformer 1.xyz\n",
      "Reactant 2 Conformer 2 saved as Reactant 2 Conformer 2.xyz\n",
      "Reactant 2 Conformer 3 saved as Reactant 2 Conformer 3.xyz\n",
      "Reactant 2 Conformer 4 saved as Reactant 2 Conformer 4.xyz\n",
      "Reactant 2 Conformer 5 saved as Reactant 2 Conformer 5.xyz\n",
      "Reactant 2 Conformer 6 saved as Reactant 2 Conformer 6.xyz\n",
      "Reactant 2 Conformer 7 saved as Reactant 2 Conformer 7.xyz\n",
      "Reactant 2 Conformer 8 saved as Reactant 2 Conformer 8.xyz\n",
      "Reactant 2 Conformer 9 saved as Reactant 2 Conformer 9.xyz\n"
     ]
    }
   ],
   "source": [
    "# Function to write each conformer to an .xyz file\n",
    "def write_conformer_to_xyz(mol, conf_id, filename):\n",
    "    conf = mol.GetConformer(conf_id)\n",
    "    with open(filename, \"w\") as f:\n",
    "        f.write(f'{mol.GetNumAtoms()}\\n') # first line is number of atoms\n",
    "        f.write(f'Conformer {conf_id}\\n') # second line is name of conformer\n",
    "        for atom_idx in range(mol.GetNumAtoms()): # each atom gets a line with atom symbol and x,y,z coordinates\n",
    "            pos = conf.GetAtomPosition(atom_idx)\n",
    "            atom_symbol = mol.GetAtomWithIdx(atom_idx).GetSymbol()\n",
    "            f.write(f'{atom_symbol} {pos.x:.6f} {pos.y:.6f} {pos.z:.6f}\\n')\n",
    "\n",
    "# Export each conformer to an .xyz file\n",
    "for conf_id in range(reactant_2.GetNumConformers()):\n",
    "    filename = f'Reactant 2 Conformer {conf_id}.xyz'\n",
    "    write_conformer_to_xyz(reactant_2, conf_id, filename)\n",
    "    print(f'Reactant 2 Conformer {conf_id} saved as {filename}')"
   ]
  },
  {
   "cell_type": "code",
   "execution_count": 8,
   "id": "7c5fa4e8-06fe-43d1-88e0-c39da8a4abdd",
   "metadata": {},
   "outputs": [],
   "source": [
    "# Generate Product 2 Conformers and Optimize"
   ]
  },
  {
   "cell_type": "code",
   "execution_count": 9,
   "id": "bf20ab6e-3042-43b1-a9ed-c33830339f97",
   "metadata": {},
   "outputs": [
    {
     "data": {
      "image/png": "[encoded data removed]",
      "text/plain": [
       "<rdkit.Chem.rdchem.Mol at 0x122b7b8b0>"
      ]
     },
     "execution_count": 9,
     "metadata": {},
     "output_type": "execute_result"
    }
   ],
   "source": [
    "product_2 = Chem.MolFromSmiles('CC(C)N(C(=O)[O-])[c+]1n(C(C)(C)C)ccn1C(C)(C)C')\n",
    "product_2"
   ]
  },
  {
   "cell_type": "code",
   "execution_count": 11,
   "id": "47ec30e9-09e1-4a28-b471-608dfb439f5f",
   "metadata": {},
   "outputs": [
    {
     "data": {
      "application/3dmoljs_load.v0": "<div id=\"3dmolviewer_1731382745993004\"  style=\"position: relative; width: 400px; height: 400px;\">\n        <p id=\"3dmolwarning_1731382745993004\" style=\"background-color:#ffcccc;color:black\">3Dmol.js failed to load for some reason.  Please check your browser console for error messages.<br></p>\n        </div>\n<script>\n\nvar loadScriptAsync = function(uri){\n  return new Promise((resolve, reject) => {\n    //this is to ignore the existence of requirejs amd\n    var savedexports, savedmodule;\n    if (typeof exports !== 'undefined') savedexports = exports;\n    else exports = {}\n    if (typeof module !== 'undefined') savedmodule = module;\n    else module = {}\n\n    var tag = document.createElement('script');\n    tag.src = uri;\n    tag.async = true;\n    tag.onload = () => {\n        exports = savedexports;\n        module = savedmodule;\n        resolve();\n    };\n  var firstScriptTag = document.getElementsByTagName('script')[0];\n  firstScriptTag.parentNode.insertBefore(tag, firstScriptTag);\n});\n};\n\nif(typeof $3Dmolpromise === 'undefined') {\n$3Dmolpromise = null;\n  $3Dmolpromise = loadScriptAsync('https://cdnjs.cloudflare.com/ajax/libs/3Dmol/2.4.0/3Dmol-min.js');\n}\n\nvar viewer_1731382745993004 = null;\nvar warn = document.getElementById(\"3dmolwarning_1731382745993004\");\nif(warn) {\n    warn.parentNode.removeChild(warn);\n}\n$3Dmolpromise.then(function() {\nviewer_1731382745993004 = $3Dmol.createViewer(document.getElementById(\"3dmolviewer_1731382745993004\"),{backgroundColor:\"white\"});\nviewer_1731382745993004.zoomTo();\n\tviewer_1731382745993004.removeAllModels();\n\tviewer_1731382745993004.addModel(\"\\n     RDKit          3D\\n\\n 47 47  0  0  0  0  0  0  0  0999 V2000\\n   -2.0836    1.9555    1.1713 C   0  0  0  0  0  0  0  0  0  0  0  0\\n   -0.5739    2.0540    0.8704 C   0  0  0  0  0  0  0  0  0  0  0  0\\n    0.1867    1.9668    2.1284 C   0  0  0  0  0  0  0  0  0  0  0  0\\n   -0.1576    1.2649   -0.2423 N   0  0  0  0  0  0  0  0  0  0  0  0\\n    0.0942    2.0026   -1.4769 C   0  0  0  0  0  0  0  0  0  0  0  0\\n   -0.0364    3.2376   -1.5447 O   0  0  0  0  0  0  0  0  0  0  0  0\\n    0.4921    1.3398   -2.6325 O   0  0  0  0  0  1  0  0  0  0  0  0\\n    0.0585   -0.1250   -0.2882 C   0  0  0  0  0  3  0  0  0  0  0  0\\n    1.3173   -0.6490   -0.0867 N   0  0  0  0  0  0  0  0  0  0  0  0\\n    2.5809   -0.0501    0.1524 C   0  0  0  0  0  0  0  0  0  0  0  0\\n    2.8591    1.3174   -0.3046 C   0  0  0  0  0  0  0  0  0  0  0  0\\n    3.0386   -0.1509    1.6121 C   0  0  0  0  0  0  0  0  0  0  0  0\\n    3.6306   -0.9220   -0.6000 C   0  0  0  0  0  0  0  0  0  0  0  0\\n    1.1987   -2.0222   -0.1738 C   0  0  0  0  0  0  0  0  0  0  0  0\\n   -0.0907   -2.3191   -0.4214 C   0  0  0  0  0  0  0  0  0  0  0  0\\n   -0.8117   -1.1420   -0.4954 N   0  0  0  0  0  0  0  0  0  0  0  0\\n   -2.2166   -1.1961   -0.7516 C   0  0  0  0  0  0  0  0  0  0  0  0\\n   -2.4681   -2.4020   -1.7102 C   0  0  0  0  0  0  0  0  0  0  0  0\\n   -2.9670   -1.6454    0.5206 C   0  0  0  0  0  0  0  0  0  0  0  0\\n   -2.8832   -0.0651   -1.4092 C   0  0  0  0  0  0  0  0  0  0  0  0\\n   -2.6654    2.2777    0.3183 H   0  0  0  0  0  0  0  0  0  0  0  0\\n   -2.2165    2.6004    2.0739 H   0  0  0  0  0  0  0  0  0  0  0  0\\n   -2.3279    0.9410    1.5129 H   0  0  0  0  0  0  0  0  0  0  0  0\\n   -0.5273    3.1325    0.4962 H   0  0  0  0  0  0  0  0  0  0  0  0\\n   -0.3966    2.2969    3.0262 H   0  0  0  0  0  0  0  0  0  0  0  0\\n    0.4746    0.8989    2.2750 H   0  0  0  0  0  0  0  0  0  0  0  0\\n    1.0610    2.6143    2.1043 H   0  0  0  0  0  0  0  0  0  0  0  0\\n    3.9574    1.4963   -0.0149 H   0  0  0  0  0  0  0  0  0  0  0  0\\n    2.3569    2.1408    0.2280 H   0  0  0  0  0  0  0  0  0  0  0  0\\n    2.9116    1.4324   -1.4072 H   0  0  0  0  0  0  0  0  0  0  0  0\\n    4.1374   -0.2754    1.5905 H   0  0  0  0  0  0  0  0  0  0  0  0\\n    2.8465    0.8445    2.0684 H   0  0  0  0  0  0  0  0  0  0  0  0\\n    2.5257   -0.9733    2.1305 H   0  0  0  0  0  0  0  0  0  0  0  0\\n    3.8125   -1.8699   -0.0586 H   0  0  0  0  0  0  0  0  0  0  0  0\\n    3.2788   -1.0636   -1.6206 H   0  0  0  0  0  0  0  0  0  0  0  0\\n    4.5664   -0.3282   -0.5692 H   0  0  0  0  0  0  0  0  0  0  0  0\\n    1.9905   -2.7514   -0.0649 H   0  0  0  0  0  0  0  0  0  0  0  0\\n   -0.4783   -3.3253   -0.5397 H   0  0  0  0  0  0  0  0  0  0  0  0\\n   -3.5163   -2.2957   -2.0263 H   0  0  0  0  0  0  0  0  0  0  0  0\\n   -1.7591   -2.3322   -2.5512 H   0  0  0  0  0  0  0  0  0  0  0  0\\n   -2.4205   -3.3429   -1.1323 H   0  0  0  0  0  0  0  0  0  0  0  0\\n   -3.1413   -2.7236    0.5537 H   0  0  0  0  0  0  0  0  0  0  0  0\\n   -2.2600   -1.4460    1.3789 H   0  0  0  0  0  0  0  0  0  0  0  0\\n   -3.8458   -1.0181    0.7051 H   0  0  0  0  0  0  0  0  0  0  0  0\\n   -3.6206    0.3538   -0.6531 H   0  0  0  0  0  0  0  0  0  0  0  0\\n   -2.2947    0.6807   -1.9216 H   0  0  0  0  0  0  0  0  0  0  0  0\\n   -3.6171   -0.4140   -2.2201 H   0  0  0  0  0  0  0  0  0  0  0  0\\n  1  2  1  0\\n  2  3  1  0\\n  2  4  1  0\\n  4  5  1  0\\n  5  6  2  0\\n  5  7  1  0\\n  4  8  1  0\\n  8  9  1  0\\n  9 10  1  0\\n 10 11  1  0\\n 10 12  1  0\\n 10 13  1  0\\n  9 14  1  0\\n 14 15  2  0\\n 15 16  1  0\\n 16 17  1  0\\n 17 18  1  0\\n 17 19  1  0\\n 17 20  1  0\\n 16  8  1  0\\n  1 21  1  0\\n  1 22  1  0\\n  1 23  1  0\\n  2 24  1  0\\n  3 25  1  0\\n  3 26  1  0\\n  3 27  1  0\\n 11 28  1  0\\n 11 29  1  0\\n 11 30  1  0\\n 12 31  1  0\\n 12 32  1  0\\n 12 33  1  0\\n 13 34  1  0\\n 13 35  1  0\\n 13 36  1  0\\n 14 37  1  0\\n 15 38  1  0\\n 18 39  1  0\\n 18 40  1  0\\n 18 41  1  0\\n 19 42  1  0\\n 19 43  1  0\\n 19 44  1  0\\n 20 45  1  0\\n 20 46  1  0\\n 20 47  1  0\\nM  CHG  2   7  -1   8   1\\nM  END\\n\",\"sdf\");\n\tviewer_1731382745993004.setStyle({\"stick\": {}});\n\tviewer_1731382745993004.setBackgroundColor(\"0xeeeeee\");\n\tviewer_1731382745993004.zoomTo();\nviewer_1731382745993004.render();\n});\n</script>",
      "text/html": [
       "<div id=\"3dmolviewer_1731382745993004\"  style=\"position: relative; width: 400px; height: 400px;\">\n",
       "        <p id=\"3dmolwarning_1731382745993004\" style=\"background-color:#ffcccc;color:black\">3Dmol.js failed to load for some reason.  Please check your browser console for error messages.<br></p>\n",
       "        </div>\n",
       "<script>\n",
       "\n",
       "var loadScriptAsync = function(uri){\n",
       "  return new Promise((resolve, reject) => {\n",
       "    //this is to ignore the existence of requirejs amd\n",
       "    var savedexports, savedmodule;\n",
       "    if (typeof exports !== 'undefined') savedexports = exports;\n",
       "    else exports = {}\n",
       "    if (typeof module !== 'undefined') savedmodule = module;\n",
       "    else module = {}\n",
       "\n",
       "    var tag = document.createElement('script');\n",
       "    tag.src = uri;\n",
       "    tag.async = true;\n",
       "    tag.onload = () => {\n",
       "        exports = savedexports;\n",
       "        module = savedmodule;\n",
       "        resolve();\n",
       "    };\n",
       "  var firstScriptTag = document.getElementsByTagName('script')[0];\n",
       "  firstScriptTag.parentNode.insertBefore(tag, firstScriptTag);\n",
       "});\n",
       "};\n",
       "\n",
       "if(typeof $3Dmolpromise === 'undefined') {\n",
       "$3Dmolpromise = null;\n",
       "  $3Dmolpromise = loadScriptAsync('https://cdnjs.cloudflare.com/ajax/libs/3Dmol/2.4.0/3Dmol-min.js');\n",
       "}\n",
       "\n",
       "var viewer_1731382745993004 = null;\n",
       "var warn = document.getElementById(\"3dmolwarning_1731382745993004\");\n",
       "if(warn) {\n",
       "    warn.parentNode.removeChild(warn);\n",
       "}\n",
       "$3Dmolpromise.then(function() {\n",
       "viewer_1731382745993004 = $3Dmol.createViewer(document.getElementById(\"3dmolviewer_1731382745993004\"),{backgroundColor:\"white\"});\n",
       "viewer_1731382745993004.zoomTo();\n",
       "\tviewer_1731382745993004.removeAllModels();\n",
       "\tviewer_1731382745993004.addModel(\"\\n     RDKit          3D\\n\\n 47 47  0  0  0  0  0  0  0  0999 V2000\\n   -2.0836    1.9555    1.1713 C   0  0  0  0  0  0  0  0  0  0  0  0\\n   -0.5739    2.0540    0.8704 C   0  0  0  0  0  0  0  0  0  0  0  0\\n    0.1867    1.9668    2.1284 C   0  0  0  0  0  0  0  0  0  0  0  0\\n   -0.1576    1.2649   -0.2423 N   0  0  0  0  0  0  0  0  0  0  0  0\\n    0.0942    2.0026   -1.4769 C   0  0  0  0  0  0  0  0  0  0  0  0\\n   -0.0364    3.2376   -1.5447 O   0  0  0  0  0  0  0  0  0  0  0  0\\n    0.4921    1.3398   -2.6325 O   0  0  0  0  0  1  0  0  0  0  0  0\\n    0.0585   -0.1250   -0.2882 C   0  0  0  0  0  3  0  0  0  0  0  0\\n    1.3173   -0.6490   -0.0867 N   0  0  0  0  0  0  0  0  0  0  0  0\\n    2.5809   -0.0501    0.1524 C   0  0  0  0  0  0  0  0  0  0  0  0\\n    2.8591    1.3174   -0.3046 C   0  0  0  0  0  0  0  0  0  0  0  0\\n    3.0386   -0.1509    1.6121 C   0  0  0  0  0  0  0  0  0  0  0  0\\n    3.6306   -0.9220   -0.6000 C   0  0  0  0  0  0  0  0  0  0  0  0\\n    1.1987   -2.0222   -0.1738 C   0  0  0  0  0  0  0  0  0  0  0  0\\n   -0.0907   -2.3191   -0.4214 C   0  0  0  0  0  0  0  0  0  0  0  0\\n   -0.8117   -1.1420   -0.4954 N   0  0  0  0  0  0  0  0  0  0  0  0\\n   -2.2166   -1.1961   -0.7516 C   0  0  0  0  0  0  0  0  0  0  0  0\\n   -2.4681   -2.4020   -1.7102 C   0  0  0  0  0  0  0  0  0  0  0  0\\n   -2.9670   -1.6454    0.5206 C   0  0  0  0  0  0  0  0  0  0  0  0\\n   -2.8832   -0.0651   -1.4092 C   0  0  0  0  0  0  0  0  0  0  0  0\\n   -2.6654    2.2777    0.3183 H   0  0  0  0  0  0  0  0  0  0  0  0\\n   -2.2165    2.6004    2.0739 H   0  0  0  0  0  0  0  0  0  0  0  0\\n   -2.3279    0.9410    1.5129 H   0  0  0  0  0  0  0  0  0  0  0  0\\n   -0.5273    3.1325    0.4962 H   0  0  0  0  0  0  0  0  0  0  0  0\\n   -0.3966    2.2969    3.0262 H   0  0  0  0  0  0  0  0  0  0  0  0\\n    0.4746    0.8989    2.2750 H   0  0  0  0  0  0  0  0  0  0  0  0\\n    1.0610    2.6143    2.1043 H   0  0  0  0  0  0  0  0  0  0  0  0\\n    3.9574    1.4963   -0.0149 H   0  0  0  0  0  0  0  0  0  0  0  0\\n    2.3569    2.1408    0.2280 H   0  0  0  0  0  0  0  0  0  0  0  0\\n    2.9116    1.4324   -1.4072 H   0  0  0  0  0  0  0  0  0  0  0  0\\n    4.1374   -0.2754    1.5905 H   0  0  0  0  0  0  0  0  0  0  0  0\\n    2.8465    0.8445    2.0684 H   0  0  0  0  0  0  0  0  0  0  0  0\\n    2.5257   -0.9733    2.1305 H   0  0  0  0  0  0  0  0  0  0  0  0\\n    3.8125   -1.8699   -0.0586 H   0  0  0  0  0  0  0  0  0  0  0  0\\n    3.2788   -1.0636   -1.6206 H   0  0  0  0  0  0  0  0  0  0  0  0\\n    4.5664   -0.3282   -0.5692 H   0  0  0  0  0  0  0  0  0  0  0  0\\n    1.9905   -2.7514   -0.0649 H   0  0  0  0  0  0  0  0  0  0  0  0\\n   -0.4783   -3.3253   -0.5397 H   0  0  0  0  0  0  0  0  0  0  0  0\\n   -3.5163   -2.2957   -2.0263 H   0  0  0  0  0  0  0  0  0  0  0  0\\n   -1.7591   -2.3322   -2.5512 H   0  0  0  0  0  0  0  0  0  0  0  0\\n   -2.4205   -3.3429   -1.1323 H   0  0  0  0  0  0  0  0  0  0  0  0\\n   -3.1413   -2.7236    0.5537 H   0  0  0  0  0  0  0  0  0  0  0  0\\n   -2.2600   -1.4460    1.3789 H   0  0  0  0  0  0  0  0  0  0  0  0\\n   -3.8458   -1.0181    0.7051 H   0  0  0  0  0  0  0  0  0  0  0  0\\n   -3.6206    0.3538   -0.6531 H   0  0  0  0  0  0  0  0  0  0  0  0\\n   -2.2947    0.6807   -1.9216 H   0  0  0  0  0  0  0  0  0  0  0  0\\n   -3.6171   -0.4140   -2.2201 H   0  0  0  0  0  0  0  0  0  0  0  0\\n  1  2  1  0\\n  2  3  1  0\\n  2  4  1  0\\n  4  5  1  0\\n  5  6  2  0\\n  5  7  1  0\\n  4  8  1  0\\n  8  9  1  0\\n  9 10  1  0\\n 10 11  1  0\\n 10 12  1  0\\n 10 13  1  0\\n  9 14  1  0\\n 14 15  2  0\\n 15 16  1  0\\n 16 17  1  0\\n 17 18  1  0\\n 17 19  1  0\\n 17 20  1  0\\n 16  8  1  0\\n  1 21  1  0\\n  1 22  1  0\\n  1 23  1  0\\n  2 24  1  0\\n  3 25  1  0\\n  3 26  1  0\\n  3 27  1  0\\n 11 28  1  0\\n 11 29  1  0\\n 11 30  1  0\\n 12 31  1  0\\n 12 32  1  0\\n 12 33  1  0\\n 13 34  1  0\\n 13 35  1  0\\n 13 36  1  0\\n 14 37  1  0\\n 15 38  1  0\\n 18 39  1  0\\n 18 40  1  0\\n 18 41  1  0\\n 19 42  1  0\\n 19 43  1  0\\n 19 44  1  0\\n 20 45  1  0\\n 20 46  1  0\\n 20 47  1  0\\nM  CHG  2   7  -1   8   1\\nM  END\\n\",\"sdf\");\n",
       "\tviewer_1731382745993004.setStyle({\"stick\": {}});\n",
       "\tviewer_1731382745993004.setBackgroundColor(\"0xeeeeee\");\n",
       "\tviewer_1731382745993004.zoomTo();\n",
       "viewer_1731382745993004.render();\n",
       "});\n",
       "</script>"
      ]
     },
     "metadata": {},
     "output_type": "display_data"
    }
   ],
   "source": [
    "product_2 = Chem.AddHs(product_2)\n",
    "\n",
    "rdDistGeom.EmbedMultipleConfs(product_2, 10, randomSeed=0xf00d) # generate 10 conformers\n",
    "IPythonConsole.drawMol3D(product_2)"
   ]
  },
  {
   "cell_type": "code",
   "execution_count": 12,
   "id": "61c9c553-2ec9-4ed8-98c5-595f5541ab6f",
   "metadata": {},
   "outputs": [
    {
     "name": "stdout",
     "output_type": "stream",
     "text": [
      "Conformer 0 optimization result: 0\n",
      "Conformer 1 optimization result: 0\n",
      "Conformer 2 optimization result: 0\n",
      "Conformer 3 optimization result: 0\n",
      "Conformer 4 optimization result: 1\n",
      "Conformer 5 optimization result: 0\n",
      "Conformer 6 optimization result: 0\n",
      "Conformer 7 optimization result: 0\n",
      "Conformer 8 optimization result: 0\n",
      "Conformer 9 optimization result: 0\n"
     ]
    }
   ],
   "source": [
    "# Optomize conformers with MMFF94\n",
    "# Loop through each conformer by its ID\n",
    "for conf_id in range(product_2.GetNumConformers()):\n",
    "    # Optimize each conformer by specifying the molecule and the conformer ID\n",
    "    result = AllChem.MMFFOptimizeMolecule(product_2, confId=conf_id)\n",
    "    print(f\"Conformer {conf_id} optimization result: {result}\")"
   ]
  },
  {
   "cell_type": "code",
   "execution_count": 13,
   "id": "5f766ad6-e622-4cb0-93ed-673e1d1b7307",
   "metadata": {},
   "outputs": [
    {
     "name": "stdout",
     "output_type": "stream",
     "text": [
      "Product 2 Conformer 0 saved as Product 2 Conformer 0.xyz\n",
      "Product 2 Conformer 1 saved as Product 2 Conformer 1.xyz\n",
      "Product 2 Conformer 2 saved as Product 2 Conformer 2.xyz\n",
      "Product 2 Conformer 3 saved as Product 2 Conformer 3.xyz\n",
      "Product 2 Conformer 4 saved as Product 2 Conformer 4.xyz\n",
      "Product 2 Conformer 5 saved as Product 2 Conformer 5.xyz\n",
      "Product 2 Conformer 6 saved as Product 2 Conformer 6.xyz\n",
      "Product 2 Conformer 7 saved as Product 2 Conformer 7.xyz\n",
      "Product 2 Conformer 8 saved as Product 2 Conformer 8.xyz\n",
      "Product 2 Conformer 9 saved as Product 2 Conformer 9.xyz\n"
     ]
    }
   ],
   "source": [
    "# Export each conformer to an .xyz file\n",
    "for conf_id in range(product_2.GetNumConformers()):\n",
    "    filename = f'Product 2 Conformer {conf_id}.xyz'\n",
    "    write_conformer_to_xyz(product_2, conf_id, filename)\n",
    "    print(f'Product 2 Conformer {conf_id} saved as {filename}')"
   ]
  },
  {
   "cell_type": "code",
   "execution_count": null,
   "id": "10b2b483-df38-4aa1-8aa3-dde2d142b3c4",
   "metadata": {},
   "outputs": [],
   "source": []
  }
 ],
 "metadata": {
  "kernelspec": {
   "display_name": "Python [conda env:my-rdkit-env] *",
   "language": "python",
   "name": "conda-env-my-rdkit-env-py"
  },
  "language_info": {
   "codemirror_mode": {
    "name": "ipython",
    "version": 3
   },
   "file_extension": ".py",
   "mimetype": "text/x-python",
   "name": "python",
   "nbconvert_exporter": "python",
   "pygments_lexer": "ipython3",
   "version": "3.13.0"
  }
 },
 "nbformat": 4,
 "nbformat_minor": 5
}
